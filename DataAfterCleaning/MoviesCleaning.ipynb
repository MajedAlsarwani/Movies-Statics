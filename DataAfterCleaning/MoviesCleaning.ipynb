{
  "nbformat": 4,
  "nbformat_minor": 0,
  "metadata": {
    "colab": {
      "provenance": []
    },
    "kernelspec": {
      "name": "python3",
      "display_name": "Python 3"
    },
    "language_info": {
      "name": "python"
    }
  },
  "cells": [
    {
      "cell_type": "code",
      "execution_count": 1,
      "metadata": {
        "id": "ehOcCfAjEmSI"
      },
      "outputs": [],
      "source": [
        "import pandas as pd"
      ]
    },
    {
      "cell_type": "code",
      "source": [
        "data1 = pd.read_excel('/content/الملف التحليل الاساسي بيانات الافلام).xlsx')\n",
        "data2 = pd.read_excel('/content/ملف يستخدم للبحث عن البيانات ( بيانات الافلام ).xlsx')\n"
      ],
      "metadata": {
        "id": "pT3Ss3k3EvvM"
      },
      "execution_count": 3,
      "outputs": []
    },
    {
      "cell_type": "code",
      "source": [
        "data1.columns"
      ],
      "metadata": {
        "colab": {
          "base_uri": "https://localhost:8080/"
        },
        "id": "dhKgTYvmFIh5",
        "outputId": "137892cd-f9e8-4332-b165-dc684e556733"
      },
      "execution_count": 6,
      "outputs": [
        {
          "output_type": "execute_result",
          "data": {
            "text/plain": [
              "Index(['movie_id', 'title', 'vote_average', 'vote_count', 'release_date',\n",
              "       'revenue', 'original_language', 'genres', 'production_companies',\n",
              "       'production_countries'],\n",
              "      dtype='object')"
            ]
          },
          "metadata": {},
          "execution_count": 6
        }
      ]
    },
    {
      "cell_type": "code",
      "source": [
        "data1.set_index('movie_id', inplace =True)\n",
        "data2.set_index('movie_id', inplace =True)"
      ],
      "metadata": {
        "id": "e9lmYA8hGTPd"
      },
      "execution_count": 7,
      "outputs": []
    },
    {
      "cell_type": "code",
      "source": [
        "data1.update(data2)"
      ],
      "metadata": {
        "id": "5rTzPurSGS9v"
      },
      "execution_count": 9,
      "outputs": []
    },
    {
      "cell_type": "code",
      "source": [
        "data1.info()"
      ],
      "metadata": {
        "colab": {
          "base_uri": "https://localhost:8080/"
        },
        "id": "DaHtQLGyGwm4",
        "outputId": "816aa711-f59a-4cd4-eb12-bf53d7ac398e"
      },
      "execution_count": 10,
      "outputs": [
        {
          "output_type": "stream",
          "name": "stdout",
          "text": [
            "<class 'pandas.core.frame.DataFrame'>\n",
            "Index: 3006 entries, 4520010 to 4523027\n",
            "Data columns (total 9 columns):\n",
            " #   Column                Non-Null Count  Dtype         \n",
            "---  ------                --------------  -----         \n",
            " 0   title                 3006 non-null   object        \n",
            " 1   vote_average          3006 non-null   float64       \n",
            " 2   vote_count            3006 non-null   float64       \n",
            " 3   release_date          3006 non-null   datetime64[ns]\n",
            " 4   revenue               3006 non-null   float64       \n",
            " 5   original_language     3006 non-null   object        \n",
            " 6   genres                3006 non-null   object        \n",
            " 7   production_companies  3006 non-null   object        \n",
            " 8   production_countries  3006 non-null   object        \n",
            "dtypes: datetime64[ns](1), float64(3), object(5)\n",
            "memory usage: 234.8+ KB\n"
          ]
        }
      ]
    },
    {
      "cell_type": "code",
      "source": [
        "data1.duplicated().sum()"
      ],
      "metadata": {
        "colab": {
          "base_uri": "https://localhost:8080/"
        },
        "id": "S5no7rqPG50t",
        "outputId": "176a5e8f-e48a-4fbb-e252-11aa44bc858e"
      },
      "execution_count": 19,
      "outputs": [
        {
          "output_type": "execute_result",
          "data": {
            "text/plain": [
              "7"
            ]
          },
          "metadata": {},
          "execution_count": 19
        }
      ]
    },
    {
      "cell_type": "code",
      "source": [
        "data1.drop_duplicates(inplace=True)"
      ],
      "metadata": {
        "id": "VBeqHApgH_rI"
      },
      "execution_count": 22,
      "outputs": []
    },
    {
      "cell_type": "code",
      "source": [
        "data1['original_language'] = data1['original_language'].str.replace('english','en')"
      ],
      "metadata": {
        "id": "P2od7y3NIfPc"
      },
      "execution_count": 24,
      "outputs": []
    },
    {
      "cell_type": "code",
      "source": [
        "data1['original_language'].unique()"
      ],
      "metadata": {
        "colab": {
          "base_uri": "https://localhost:8080/"
        },
        "id": "4-KbubWHJM13",
        "outputId": "478e536a-1d3f-428d-a2af-55d0a363febd"
      },
      "execution_count": 26,
      "outputs": [
        {
          "output_type": "execute_result",
          "data": {
            "text/plain": [
              "array(['en', 'ko', 'fr', 'ja', 'it', 'es', 'pl', 'pt', 'hi', 'tr', 'da',\n",
              "       'de', 'cn', 'id', 'zh', 'sv', 'el', 'ru', 'sr', 'fa', 'th', 'ar',\n",
              "       'no', 'nb'], dtype=object)"
            ]
          },
          "metadata": {},
          "execution_count": 26
        }
      ]
    },
    {
      "cell_type": "code",
      "source": [
        "data1.to_excel('movies.xlsx')"
      ],
      "metadata": {
        "id": "wf68XRsyJV_W"
      },
      "execution_count": 28,
      "outputs": []
    }
  ]
}